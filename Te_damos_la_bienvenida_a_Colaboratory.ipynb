# -*- coding: utf-8 -*-
"""
Created on Sat Jul  6 16:30:23 2024

@author: JEFFREY
"""

def solicitar_datos():
    ventas = []
    ganancias = []
    for i in range(6):
        print(f"{i+1}° Mes:")
        venta = float(input(f"Ingrese la cantidad de ventas del mes {i+1}/6: "))
        ganancia = float(input(f"Ingrese la ganancia total del mes {i+1}/6 en soles: "))
        ventas.append(venta)
        ganancias.append(ganancia)
    return ventas, ganancias

def calcular_coeficientes(x, y):
    n = len(x)
    sum_x = sum(x)
    sum_y = sum(y)
    sum_xy = sum(xi * yi for xi, yi in zip(x, y))
    sum_x2 = sum(xi * xi for xi in x)
    
    m = (n * sum_xy - sum_x * sum_y) / (n * sum_x2 - sum_x * sum_x)
    b = (sum_y - m * sum_x) / n
    return m, b

def predecir(m, b, x):
    return m * x + b

ventas, ganancias = solicitar_datos()

meses = list(range(1, 7))

m_ventas, b_ventas = calcular_coeficientes(meses, ventas)

m_ganancias, b_ganancias = calcular_coeficientes(meses, ganancias)

ventas_futuras = []
ganancias_futuras = []
for i in range(7, 9):
    venta_futura = predecir(m_ventas, b_ventas, i)
    ganancia_futura = predecir(m_ganancias, b_ganancias, i)
    ventas_futuras.append(int(round(venta_futura, 0)))
    ganancias_futuras.append(round(ganancia_futura, 1))

for i in range(2):
    print(f"Predicción para el {7+i}° mes:")
    print(f"  Ventas Aproximadas: {ventas_futuras[i]}")
    print(f"  Ganancias Aproximadas: {ganancias_futuras[i]} soles")
